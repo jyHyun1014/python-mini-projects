{
 "cells": [
  {
   "cell_type": "markdown",
   "metadata": {},
   "source": [
    "# 서울시 공유자전거 '따릉이' 수요 예측\n",
    "\n",
    "[목표]\n",
    "- 서울시 공유 자전거 '따릉이'의 수요와 날씨 간 연관성을 분석\n",
    "- 어떤 날씨 요소가 따릉이 수요와 관련 있는지 분석하여 인사이트 도출\n",
    "\n",
    "## ▣ 데이터 소개\n",
    "[기본 데이터]\n",
    "* 데이터 : sbikedata.csv\n",
    "\n",
    "## ▣ 데이터셋의 변수 소개\n",
    "* date : 날짜\n",
    "* hour : 시간\n",
    "* temperature : 온도\n",
    "* precipitation : 강우 여부, 비가 오지 않았으면 0, 비가 오면 1\n",
    "* windspeed : 풍속(평균)\n",
    "* humidity : 습도\n",
    "* visibility : 시정(視程), 시계(視界)(특정 기상 상태에 따른 가시성을 의미)\n",
    "* ozone : 오존 수치\n",
    "* PM10 : 미세먼지 수치(머리카락 굵기의 1/5에서 1/7 크기의 미세먼지)\n",
    "* PM2.5 : 초미세먼지 수치(머리카락 굵기의 1/20에서 1/30 크기의 미세먼지)\n",
    "* count : 시간에 따른 따릉이 대여 수"
   ]
  },
  {
   "cell_type": "markdown",
   "metadata": {},
   "source": [
    "## 1. 환경 설정\n",
    "\n",
    "#### <span style=\"color: green\"> 1) 라이브러리 불러오기 </span>"
   ]
  },
  {
   "cell_type": "code",
   "execution_count": 1,
   "metadata": {},
   "outputs": [],
   "source": [
    "import pandas as pd\n",
    "import numpy as np\n",
    "import seaborn as sns\n",
    "import matplotlib.pyplot as plt\n",
    "import scipy.stats as spst  \n",
    "from scipy.interpolate import interpolate  # 보간법"
   ]
  },
  {
   "cell_type": "markdown",
   "metadata": {},
   "source": [
    "#### <span style=\"color: green\"> 2) 활용할 데이터 불러오기 </span>"
   ]
  },
  {
   "cell_type": "code",
   "execution_count": 2,
   "metadata": {},
   "outputs": [
    {
     "data": {
      "text/html": [
       "<div>\n",
       "<style scoped>\n",
       "    .dataframe tbody tr th:only-of-type {\n",
       "        vertical-align: middle;\n",
       "    }\n",
       "\n",
       "    .dataframe tbody tr th {\n",
       "        vertical-align: top;\n",
       "    }\n",
       "\n",
       "    .dataframe thead th {\n",
       "        text-align: right;\n",
       "    }\n",
       "</style>\n",
       "<table border=\"1\" class=\"dataframe\">\n",
       "  <thead>\n",
       "    <tr style=\"text-align: right;\">\n",
       "      <th></th>\n",
       "      <th>date</th>\n",
       "      <th>hour</th>\n",
       "      <th>PM10</th>\n",
       "      <th>PM2.5</th>\n",
       "      <th>ozone</th>\n",
       "      <th>temperature</th>\n",
       "      <th>precipitation</th>\n",
       "      <th>windspeed</th>\n",
       "      <th>humidity</th>\n",
       "      <th>visibility</th>\n",
       "      <th>count</th>\n",
       "    </tr>\n",
       "  </thead>\n",
       "  <tbody>\n",
       "    <tr>\n",
       "      <th>0</th>\n",
       "      <td>2021-04-01</td>\n",
       "      <td>1</td>\n",
       "      <td>42.0</td>\n",
       "      <td>21.0</td>\n",
       "      <td>0.002</td>\n",
       "      <td>13.1</td>\n",
       "      <td>0</td>\n",
       "      <td>1.4</td>\n",
       "      <td>49</td>\n",
       "      <td>2000</td>\n",
       "      <td>46</td>\n",
       "    </tr>\n",
       "    <tr>\n",
       "      <th>1</th>\n",
       "      <td>2021-04-01</td>\n",
       "      <td>2</td>\n",
       "      <td>41.0</td>\n",
       "      <td>21.0</td>\n",
       "      <td>0.003</td>\n",
       "      <td>12.4</td>\n",
       "      <td>0</td>\n",
       "      <td>2.1</td>\n",
       "      <td>53</td>\n",
       "      <td>2000</td>\n",
       "      <td>40</td>\n",
       "    </tr>\n",
       "    <tr>\n",
       "      <th>2</th>\n",
       "      <td>2021-04-01</td>\n",
       "      <td>3</td>\n",
       "      <td>30.0</td>\n",
       "      <td>13.0</td>\n",
       "      <td>0.023</td>\n",
       "      <td>13.1</td>\n",
       "      <td>0</td>\n",
       "      <td>3.4</td>\n",
       "      <td>43</td>\n",
       "      <td>2000</td>\n",
       "      <td>31</td>\n",
       "    </tr>\n",
       "    <tr>\n",
       "      <th>3</th>\n",
       "      <td>2021-04-01</td>\n",
       "      <td>4</td>\n",
       "      <td>27.0</td>\n",
       "      <td>12.0</td>\n",
       "      <td>0.028</td>\n",
       "      <td>13.0</td>\n",
       "      <td>0</td>\n",
       "      <td>3.1</td>\n",
       "      <td>44</td>\n",
       "      <td>2000</td>\n",
       "      <td>12</td>\n",
       "    </tr>\n",
       "    <tr>\n",
       "      <th>4</th>\n",
       "      <td>2021-04-01</td>\n",
       "      <td>5</td>\n",
       "      <td>29.0</td>\n",
       "      <td>14.0</td>\n",
       "      <td>0.008</td>\n",
       "      <td>13.0</td>\n",
       "      <td>0</td>\n",
       "      <td>2.9</td>\n",
       "      <td>44</td>\n",
       "      <td>2000</td>\n",
       "      <td>30</td>\n",
       "    </tr>\n",
       "    <tr>\n",
       "      <th>...</th>\n",
       "      <td>...</td>\n",
       "      <td>...</td>\n",
       "      <td>...</td>\n",
       "      <td>...</td>\n",
       "      <td>...</td>\n",
       "      <td>...</td>\n",
       "      <td>...</td>\n",
       "      <td>...</td>\n",
       "      <td>...</td>\n",
       "      <td>...</td>\n",
       "      <td>...</td>\n",
       "    </tr>\n",
       "    <tr>\n",
       "      <th>5822</th>\n",
       "      <td>2021-11-29</td>\n",
       "      <td>20</td>\n",
       "      <td>74.0</td>\n",
       "      <td>58.0</td>\n",
       "      <td>0.002</td>\n",
       "      <td>9.3</td>\n",
       "      <td>0</td>\n",
       "      <td>0.3</td>\n",
       "      <td>66</td>\n",
       "      <td>1193</td>\n",
       "      <td>273</td>\n",
       "    </tr>\n",
       "    <tr>\n",
       "      <th>5823</th>\n",
       "      <td>2021-11-29</td>\n",
       "      <td>21</td>\n",
       "      <td>65.0</td>\n",
       "      <td>56.0</td>\n",
       "      <td>0.002</td>\n",
       "      <td>8.4</td>\n",
       "      <td>0</td>\n",
       "      <td>2.0</td>\n",
       "      <td>70</td>\n",
       "      <td>1233</td>\n",
       "      <td>228</td>\n",
       "    </tr>\n",
       "    <tr>\n",
       "      <th>5824</th>\n",
       "      <td>2021-11-29</td>\n",
       "      <td>22</td>\n",
       "      <td>51.0</td>\n",
       "      <td>41.0</td>\n",
       "      <td>0.002</td>\n",
       "      <td>8.6</td>\n",
       "      <td>0</td>\n",
       "      <td>1.9</td>\n",
       "      <td>70</td>\n",
       "      <td>1250</td>\n",
       "      <td>215</td>\n",
       "    </tr>\n",
       "    <tr>\n",
       "      <th>5825</th>\n",
       "      <td>2021-11-29</td>\n",
       "      <td>23</td>\n",
       "      <td>43.0</td>\n",
       "      <td>35.0</td>\n",
       "      <td>0.001</td>\n",
       "      <td>8.2</td>\n",
       "      <td>0</td>\n",
       "      <td>2.1</td>\n",
       "      <td>71</td>\n",
       "      <td>1262</td>\n",
       "      <td>125</td>\n",
       "    </tr>\n",
       "    <tr>\n",
       "      <th>5826</th>\n",
       "      <td>2021-11-30</td>\n",
       "      <td>0</td>\n",
       "      <td>39.0</td>\n",
       "      <td>31.0</td>\n",
       "      <td>0.004</td>\n",
       "      <td>7.9</td>\n",
       "      <td>0</td>\n",
       "      <td>2.3</td>\n",
       "      <td>71</td>\n",
       "      <td>1483</td>\n",
       "      <td>95</td>\n",
       "    </tr>\n",
       "  </tbody>\n",
       "</table>\n",
       "<p>5827 rows × 11 columns</p>\n",
       "</div>"
      ],
      "text/plain": [
       "            date  hour  PM10  PM2.5  ozone  temperature  precipitation  \\\n",
       "0     2021-04-01     1  42.0   21.0  0.002         13.1              0   \n",
       "1     2021-04-01     2  41.0   21.0  0.003         12.4              0   \n",
       "2     2021-04-01     3  30.0   13.0  0.023         13.1              0   \n",
       "3     2021-04-01     4  27.0   12.0  0.028         13.0              0   \n",
       "4     2021-04-01     5  29.0   14.0  0.008         13.0              0   \n",
       "...          ...   ...   ...    ...    ...          ...            ...   \n",
       "5822  2021-11-29    20  74.0   58.0  0.002          9.3              0   \n",
       "5823  2021-11-29    21  65.0   56.0  0.002          8.4              0   \n",
       "5824  2021-11-29    22  51.0   41.0  0.002          8.6              0   \n",
       "5825  2021-11-29    23  43.0   35.0  0.001          8.2              0   \n",
       "5826  2021-11-30     0  39.0   31.0  0.004          7.9              0   \n",
       "\n",
       "      windspeed  humidity  visibility  count  \n",
       "0           1.4        49        2000     46  \n",
       "1           2.1        53        2000     40  \n",
       "2           3.4        43        2000     31  \n",
       "3           3.1        44        2000     12  \n",
       "4           2.9        44        2000     30  \n",
       "...         ...       ...         ...    ...  \n",
       "5822        0.3        66        1193    273  \n",
       "5823        2.0        70        1233    228  \n",
       "5824        1.9        70        1250    215  \n",
       "5825        2.1        71        1262    125  \n",
       "5826        2.3        71        1483     95  \n",
       "\n",
       "[5827 rows x 11 columns]"
      ]
     },
     "execution_count": 2,
     "metadata": {},
     "output_type": "execute_result"
    }
   ],
   "source": [
    "data = pd.read_csv('sbikedata.csv')\n",
    "data"
   ]
  },
  {
   "cell_type": "markdown",
   "metadata": {},
   "source": [
    "#### <span style=\"color: green\"> 3) 데이터 살펴보기 </span>"
   ]
  },
  {
   "cell_type": "code",
   "execution_count": 3,
   "metadata": {},
   "outputs": [
    {
     "data": {
      "text/html": [
       "<div>\n",
       "<style scoped>\n",
       "    .dataframe tbody tr th:only-of-type {\n",
       "        vertical-align: middle;\n",
       "    }\n",
       "\n",
       "    .dataframe tbody tr th {\n",
       "        vertical-align: top;\n",
       "    }\n",
       "\n",
       "    .dataframe thead th {\n",
       "        text-align: right;\n",
       "    }\n",
       "</style>\n",
       "<table border=\"1\" class=\"dataframe\">\n",
       "  <thead>\n",
       "    <tr style=\"text-align: right;\">\n",
       "      <th></th>\n",
       "      <th>count</th>\n",
       "      <th>mean</th>\n",
       "      <th>std</th>\n",
       "      <th>min</th>\n",
       "      <th>25%</th>\n",
       "      <th>50%</th>\n",
       "      <th>75%</th>\n",
       "      <th>max</th>\n",
       "    </tr>\n",
       "  </thead>\n",
       "  <tbody>\n",
       "    <tr>\n",
       "      <th>hour</th>\n",
       "      <td>5827.0</td>\n",
       "      <td>11.506607</td>\n",
       "      <td>6.921963</td>\n",
       "      <td>0.000</td>\n",
       "      <td>6.000</td>\n",
       "      <td>12.000</td>\n",
       "      <td>18.000</td>\n",
       "      <td>23.000</td>\n",
       "    </tr>\n",
       "    <tr>\n",
       "      <th>PM10</th>\n",
       "      <td>5725.0</td>\n",
       "      <td>31.970655</td>\n",
       "      <td>42.987292</td>\n",
       "      <td>3.000</td>\n",
       "      <td>16.000</td>\n",
       "      <td>25.000</td>\n",
       "      <td>37.000</td>\n",
       "      <td>827.000</td>\n",
       "    </tr>\n",
       "    <tr>\n",
       "      <th>PM2.5</th>\n",
       "      <td>5732.0</td>\n",
       "      <td>15.666609</td>\n",
       "      <td>13.850990</td>\n",
       "      <td>1.000</td>\n",
       "      <td>7.000</td>\n",
       "      <td>13.000</td>\n",
       "      <td>20.000</td>\n",
       "      <td>125.000</td>\n",
       "    </tr>\n",
       "    <tr>\n",
       "      <th>ozone</th>\n",
       "      <td>5699.0</td>\n",
       "      <td>0.031811</td>\n",
       "      <td>0.018277</td>\n",
       "      <td>0.001</td>\n",
       "      <td>0.019</td>\n",
       "      <td>0.031</td>\n",
       "      <td>0.041</td>\n",
       "      <td>0.137</td>\n",
       "    </tr>\n",
       "    <tr>\n",
       "      <th>temperature</th>\n",
       "      <td>5827.0</td>\n",
       "      <td>19.376798</td>\n",
       "      <td>7.501572</td>\n",
       "      <td>-3.500</td>\n",
       "      <td>14.100</td>\n",
       "      <td>20.400</td>\n",
       "      <td>24.900</td>\n",
       "      <td>36.300</td>\n",
       "    </tr>\n",
       "    <tr>\n",
       "      <th>precipitation</th>\n",
       "      <td>5827.0</td>\n",
       "      <td>0.075511</td>\n",
       "      <td>0.264236</td>\n",
       "      <td>0.000</td>\n",
       "      <td>0.000</td>\n",
       "      <td>0.000</td>\n",
       "      <td>0.000</td>\n",
       "      <td>1.000</td>\n",
       "    </tr>\n",
       "    <tr>\n",
       "      <th>windspeed</th>\n",
       "      <td>5827.0</td>\n",
       "      <td>2.237601</td>\n",
       "      <td>1.054516</td>\n",
       "      <td>0.000</td>\n",
       "      <td>1.500</td>\n",
       "      <td>2.200</td>\n",
       "      <td>2.800</td>\n",
       "      <td>8.300</td>\n",
       "    </tr>\n",
       "    <tr>\n",
       "      <th>humidity</th>\n",
       "      <td>5827.0</td>\n",
       "      <td>68.608718</td>\n",
       "      <td>17.277266</td>\n",
       "      <td>19.000</td>\n",
       "      <td>56.000</td>\n",
       "      <td>70.000</td>\n",
       "      <td>82.000</td>\n",
       "      <td>100.000</td>\n",
       "    </tr>\n",
       "    <tr>\n",
       "      <th>visibility</th>\n",
       "      <td>5827.0</td>\n",
       "      <td>1758.438648</td>\n",
       "      <td>490.969394</td>\n",
       "      <td>60.000</td>\n",
       "      <td>1935.500</td>\n",
       "      <td>2000.000</td>\n",
       "      <td>2000.000</td>\n",
       "      <td>2000.000</td>\n",
       "    </tr>\n",
       "    <tr>\n",
       "      <th>count</th>\n",
       "      <td>5827.0</td>\n",
       "      <td>215.117899</td>\n",
       "      <td>185.972900</td>\n",
       "      <td>1.000</td>\n",
       "      <td>53.000</td>\n",
       "      <td>186.000</td>\n",
       "      <td>315.000</td>\n",
       "      <td>1746.000</td>\n",
       "    </tr>\n",
       "  </tbody>\n",
       "</table>\n",
       "</div>"
      ],
      "text/plain": [
       "                count         mean         std     min       25%       50%  \\\n",
       "hour           5827.0    11.506607    6.921963   0.000     6.000    12.000   \n",
       "PM10           5725.0    31.970655   42.987292   3.000    16.000    25.000   \n",
       "PM2.5          5732.0    15.666609   13.850990   1.000     7.000    13.000   \n",
       "ozone          5699.0     0.031811    0.018277   0.001     0.019     0.031   \n",
       "temperature    5827.0    19.376798    7.501572  -3.500    14.100    20.400   \n",
       "precipitation  5827.0     0.075511    0.264236   0.000     0.000     0.000   \n",
       "windspeed      5827.0     2.237601    1.054516   0.000     1.500     2.200   \n",
       "humidity       5827.0    68.608718   17.277266  19.000    56.000    70.000   \n",
       "visibility     5827.0  1758.438648  490.969394  60.000  1935.500  2000.000   \n",
       "count          5827.0   215.117899  185.972900   1.000    53.000   186.000   \n",
       "\n",
       "                    75%       max  \n",
       "hour             18.000    23.000  \n",
       "PM10             37.000   827.000  \n",
       "PM2.5            20.000   125.000  \n",
       "ozone             0.041     0.137  \n",
       "temperature      24.900    36.300  \n",
       "precipitation     0.000     1.000  \n",
       "windspeed         2.800     8.300  \n",
       "humidity         82.000   100.000  \n",
       "visibility     2000.000  2000.000  \n",
       "count           315.000  1746.000  "
      ]
     },
     "execution_count": 3,
     "metadata": {},
     "output_type": "execute_result"
    }
   ],
   "source": [
    "data.describe().T"
   ]
  },
  {
   "cell_type": "code",
   "execution_count": 4,
   "metadata": {},
   "outputs": [
    {
     "name": "stdout",
     "output_type": "stream",
     "text": [
      "<class 'pandas.core.frame.DataFrame'>\n",
      "RangeIndex: 5827 entries, 0 to 5826\n",
      "Data columns (total 11 columns):\n",
      " #   Column         Non-Null Count  Dtype  \n",
      "---  ------         --------------  -----  \n",
      " 0   date           5827 non-null   object \n",
      " 1   hour           5827 non-null   int64  \n",
      " 2   PM10           5725 non-null   float64\n",
      " 3   PM2.5          5732 non-null   float64\n",
      " 4   ozone          5699 non-null   float64\n",
      " 5   temperature    5827 non-null   float64\n",
      " 6   precipitation  5827 non-null   int64  \n",
      " 7   windspeed      5827 non-null   float64\n",
      " 8   humidity       5827 non-null   int64  \n",
      " 9   visibility     5827 non-null   int64  \n",
      " 10  count          5827 non-null   int64  \n",
      "dtypes: float64(5), int64(5), object(1)\n",
      "memory usage: 500.9+ KB\n"
     ]
    }
   ],
   "source": [
    "data.info()"
   ]
  },
  {
   "cell_type": "markdown",
   "metadata": {},
   "source": [
    "## 2. 단변량 분석\n",
    "\n",
    "1. 변수가 내포하고 있는 의미\n",
    "2. 변수가 수치형인지, 범주형인지\n",
    "3. 결측치 존재 여부 및 조치 방안\n",
    "4. 기초 통계량 확인\n",
    "5. 데이터 분포 확인\n",
    "6. 위 정보로부터 파악한 내용 정리\n",
    "7. 추가 분석사항 도출"
   ]
  },
  {
   "cell_type": "markdown",
   "metadata": {},
   "source": [
    "### Feature1 : hour"
   ]
  },
  {
   "cell_type": "code",
   "execution_count": 5,
   "metadata": {},
   "outputs": [],
   "source": [
    "var = 'hour'"
   ]
  },
  {
   "cell_type": "code",
   "execution_count": 6,
   "metadata": {},
   "outputs": [
    {
     "data": {
      "text/plain": [
       "array([ 1,  2,  3,  4,  5,  6,  7,  8,  9, 10, 11, 12, 13, 14, 15, 16, 17,\n",
       "       18, 19, 20, 21, 22, 23,  0], dtype=int64)"
      ]
     },
     "execution_count": 6,
     "metadata": {},
     "output_type": "execute_result"
    }
   ],
   "source": [
    "data[var].unique()"
   ]
  },
  {
   "cell_type": "code",
   "execution_count": 7,
   "metadata": {},
   "outputs": [
    {
     "data": {
      "text/plain": [
       "0"
      ]
     },
     "execution_count": 7,
     "metadata": {},
     "output_type": "execute_result"
    }
   ],
   "source": [
    "data[var].isna().sum()"
   ]
  },
  {
   "cell_type": "code",
   "execution_count": 8,
   "metadata": {},
   "outputs": [
    {
     "data": {
      "text/plain": [
       "count     5827\n",
       "unique      24\n",
       "top         23\n",
       "freq       243\n",
       "Name: hour, dtype: int64"
      ]
     },
     "execution_count": 8,
     "metadata": {},
     "output_type": "execute_result"
    }
   ],
   "source": [
    "data[var].astype(object).describe()"
   ]
  },
  {
   "cell_type": "code",
   "execution_count": 9,
   "metadata": {},
   "outputs": [
    {
     "data": {
      "image/png": "[encoded data removed]",
      "text/plain": [
       "<Figure size 640x480 with 1 Axes>"
      ]
     },
     "metadata": {},
     "output_type": "display_data"
    }
   ],
   "source": [
    "sns.countplot(x=var, data=data)\n",
    "plt.grid()\n",
    "plt.show()"
   ]
  },
  {
   "cell_type": "code",
   "execution_count": 10,
   "metadata": {},
   "outputs": [
    {
     "name": "stdout",
     "output_type": "stream",
     "text": [
      "23    243\n",
      "19    243\n",
      "8     243\n",
      "12    243\n",
      "16    243\n",
      "20    243\n",
      "1     243\n",
      "5     243\n",
      "9     243\n",
      "13    243\n",
      "17    243\n",
      "21    243\n",
      "10    243\n",
      "14    243\n",
      "18    243\n",
      "22    243\n",
      "7     243\n",
      "11    243\n",
      "15    243\n",
      "0     243\n",
      "2     242\n",
      "6     242\n",
      "3     242\n",
      "4     241\n",
      "Name: hour, dtype: int64\n"
     ]
    }
   ],
   "source": [
    "print(data[var].value_counts()) # 값과 개수 \n",
    "# print(data[var].value_counts(normalize=True)) # 비율"
   ]
  },
  {
   "cell_type": "markdown",
   "metadata": {},
   "source": [
    "### Feature2 : temperature"
   ]
  },
  {
   "cell_type": "code",
   "execution_count": 11,
   "metadata": {},
   "outputs": [],
   "source": [
    "var =  'temperature'"
   ]
  },
  {
   "cell_type": "code",
   "execution_count": 12,
   "metadata": {},
   "outputs": [
    {
     "data": {
      "text/plain": [
       "array([13.1, 12.4, 13. , 12.6, 12. , 14. , 16.2, 18.2, 20.2, 21.7, 22.6,\n",
       "       23.6, 23.2, 23.5, 23. , 22.3, 20.6, 19.2, 18.1, 16.5, 15.4, 14.6,\n",
       "       14.2, 13.7, 12.9, 12.8, 12.7, 13.6, 17.4, 18.9, 20.7, 21.6, 22. ,\n",
       "       22.9, 21. , 19.9, 19.4, 19. , 18.8, 18.4, 18. , 17.7, 17.6, 17.3,\n",
       "       17.5, 16.8, 15.8, 14.9, 14.8, 14.5, 14.4, 14.3, 13.5, 12.5, 11.7,\n",
       "       11.4, 10.9, 10.5, 10.3, 10.4, 10.2,  9.7,  9.5,  9.6, 10. , 10.7,\n",
       "       11.6, 14.7, 15.5, 15. , 12.3,  9. ,  8.1,  7.4,  6.8,  6.5,  6.1,\n",
       "        5.5,  5.4,  7.9, 16.6, 17.9, 15.9, 13.3, 10.6, 10.8,  9.4, 16.1,\n",
       "       17. , 18.6, 16. , 15.1, 12.1,  8.7,  8.2,  8.3, 16.7, 19.3, 20.4,\n",
       "       19.7, 13.8, 11.3, 10.1,  8.9,  7.6,  7.2, 13.9, 17.8, 11.2,  8.6,\n",
       "        7.8,  7.7,  8.8, 17.2, 19.5, 18.5,  9.8,  9.1,  8. , 15.2, 18.3,\n",
       "       11.8,  8.4, 12.2, 17.1, 20.8, 21.2, 21.5, 16.9, 11. , 11.1, 11.9,\n",
       "       11.5,  5.7,  5. ,  4.6,  3.9,  3.4,  3.1,  7.1,  6.6,  6.4,  6.7,\n",
       "        6.9,  7. ,  7.3,  6.2, 13.2,  5.8,  5.6,  8.5, 14.1,  9.9,  9.2,\n",
       "        6.3, 16.3, 16.4, 15.6, 21.8, 20.3, 21.1, 23.1, 24.7, 26.4, 27.6,\n",
       "       28.1, 27.8, 26.1, 24.1, 22.7, 19.8, 18.7, 26.2, 27.5, 27.4, 25.4,\n",
       "       23.7, 22.8, 20.5, 15.7, 20.1, 20.9, 15.3, 19.6, 22.5, 23.9, 20. ,\n",
       "       13.4,  9.3, 22.1, 22.2, 21.4, 24.3, 25. , 25.5, 25.3, 19.1, 24.6,\n",
       "       25.2, 26.6, 27. , 21.9, 23.8, 25.7, 27.2, 27.9, 28.9, 29.5, 29. ,\n",
       "       28. , 24. , 24.2, 28.7, 29.9, 30.3, 30.6, 30.2, 29.4, 24.8, 24.9,\n",
       "       26. , 25.9, 22.4, 23.4, 23.3, 24.5, 21.3, 26.8, 28.8, 26.5, 25.1,\n",
       "       26.3, 27.3, 27.7, 28.6, 29.3, 25.6, 31. , 31.3, 31.4, 30.9, 29.8,\n",
       "       28.3, 28.4, 26.7, 30. , 29.6, 25.8, 24.4, 28.2, 29.1, 29.2, 30.1,\n",
       "       28.5, 26.9, 27.1, 30.4, 30.5, 30.8, 31.7, 31.2, 29.7, 31.5, 32.2,\n",
       "       32.3, 32. , 31.6, 30.7, 32.6, 33.1, 32.5, 32.4, 33.9, 33.8, 32.7,\n",
       "       33.2, 33.3, 34.2, 35. , 32.8, 34. , 33.7, 31.9, 33.6, 34.3, 34.8,\n",
       "       35.1, 34.7, 33.4, 34.4, 35.2, 35.7, 34.9, 31.8, 31.1, 35.4, 35.3,\n",
       "       33. , 35.6, 36.3, 36. , 36.1, 32.9, 34.5, 32.1, 34.1, 33.5,  4.4,\n",
       "        4.2,  3.6,  3.2,  2.5,  2.4,  2.1,  1.6,  1.3,  2.9,  4.8,  3.5,\n",
       "        3. ,  4.3,  5.1,  5.2,  6. ,  5.3,  5.9,  7.5,  4.7,  4.5,  3.8,\n",
       "        3.7,  4.1,  1.9,  1.4,  1.2,  0.7,  4. ,  3.3,  2.3,  2.6,  2.7,\n",
       "        1.5,  2.8,  4.9,  2. ,  1.8,  0.9,  0.6,  0.8,  1.1,  0.3, -0.1,\n",
       "       -0.4, -0.6, -0.9, -1.2, -1.8, -2.4, -2.7, -3.2, -3.5, -2.2, -1. ,\n",
       "        0. ,  1. , -0.7, -1.1, -1.6, -2. , -2.3, -2.5,  0.1,  0.2, -0.3,\n",
       "       -1.3,  2.2, -0.8])"
      ]
     },
     "execution_count": 12,
     "metadata": {},
     "output_type": "execute_result"
    }
   ],
   "source": [
    "data[var].unique()"
   ]
  },
  {
   "cell_type": "code",
   "execution_count": 13,
   "metadata": {},
   "outputs": [
    {
     "data": {
      "text/plain": [
       "0"
      ]
     },
     "execution_count": 13,
     "metadata": {},
     "output_type": "execute_result"
    }
   ],
   "source": [
    "data[var].isna().sum()"
   ]
  },
  {
   "cell_type": "code",
   "execution_count": 14,
   "metadata": {},
   "outputs": [
    {
     "data": {
      "text/plain": [
       "count    5827.000000\n",
       "mean       19.376798\n",
       "std         7.501572\n",
       "min        -3.500000\n",
       "25%        14.100000\n",
       "50%        20.400000\n",
       "75%        24.900000\n",
       "max        36.300000\n",
       "Name: temperature, dtype: float64"
      ]
     },
     "execution_count": 14,
     "metadata": {},
     "output_type": "execute_result"
    }
   ],
   "source": [
    "data[var].describe()"
   ]
  },
  {
   "cell_type": "code",
   "execution_count": 15,
   "metadata": {},
   "outputs": [
    {
     "name": "stdout",
     "output_type": "stream",
     "text": [
      "-2.0 36.3\n"
     ]
    },
    {
     "data": {
      "image/png": "[encoded data removed]",
      "text/plain": [
       "<Figure size 1200x500 with 2 Axes>"
      ]
     },
     "metadata": {},
     "output_type": "display_data"
    }
   ],
   "source": [
    "#변수의 분포를 확인해보세요.\n",
    "plt.figure(figsize=(12, 5))\n",
    "\n",
    "plt.subplot(1, 2, 1)\n",
    "box = plt.boxplot(data[var])\n",
    "l_fence = box['whiskers'][0].get_ydata()[1]\n",
    "u_fence = box['whiskers'][1].get_ydata()[1]\n",
    "print(l_fence, u_fence)\n",
    "\n",
    "plt.subplot(1, 2, 2)\n",
    "sns.histplot(data[var], kde = True)\n",
    "plt.axvline(l_fence, color = 'orange')\n",
    "avg = data[var].mean()\n",
    "plt.axvline(avg, color = 'r')\n",
    "plt.axvline(u_fence, color = 'orange')\n",
    "\n",
    "plt.show()"
   ]
  },
  {
   "cell_type": "markdown",
   "metadata": {},
   "source": [
    "### Feature3 : precipitation"
   ]
  },
  {
   "cell_type": "code",
   "execution_count": 16,
   "metadata": {},
   "outputs": [],
   "source": [
    "var = 'precipitation'"
   ]
  },
  {
   "cell_type": "code",
   "execution_count": 17,
   "metadata": {},
   "outputs": [
    {
     "data": {
      "text/plain": [
       "array([0, 1], dtype=int64)"
      ]
     },
     "execution_count": 17,
     "metadata": {},
     "output_type": "execute_result"
    }
   ],
   "source": [
    "data[var].unique()"
   ]
  },
  {
   "cell_type": "code",
   "execution_count": 18,
   "metadata": {},
   "outputs": [
    {
     "data": {
      "text/plain": [
       "0"
      ]
     },
     "execution_count": 18,
     "metadata": {},
     "output_type": "execute_result"
    }
   ],
   "source": [
    "data[var].isna().sum()"
   ]
  },
  {
   "cell_type": "code",
   "execution_count": 19,
   "metadata": {},
   "outputs": [
    {
     "data": {
      "text/plain": [
       "count     5827\n",
       "unique       2\n",
       "top          0\n",
       "freq      5387\n",
       "Name: precipitation, dtype: int64"
      ]
     },
     "execution_count": 19,
     "metadata": {},
     "output_type": "execute_result"
    }
   ],
   "source": [
    "data[var].astype(object).describe()"
   ]
  },
  {
   "cell_type": "code",
   "execution_count": 20,
   "metadata": {},
   "outputs": [
    {
     "data": {
      "image/png": "[encoded data removed]",
      "text/plain": [
       "<Figure size 640x480 with 1 Axes>"
      ]
     },
     "metadata": {},
     "output_type": "display_data"
    }
   ],
   "source": [
    "sns.countplot(x=var, data=data)\n",
    "plt.grid()\n",
    "plt.show()"
   ]
  },
  {
   "cell_type": "code",
   "execution_count": 21,
   "metadata": {},
   "outputs": [
    {
     "name": "stdout",
     "output_type": "stream",
     "text": [
      "0    5387\n",
      "1     440\n",
      "Name: precipitation, dtype: int64\n",
      "0    0.924489\n",
      "1    0.075511\n",
      "Name: precipitation, dtype: float64\n"
     ]
    }
   ],
   "source": [
    "print(data[var].value_counts()) # 값과 개수 \n",
    "print(data[var].value_counts(normalize=True)) # 비율"
   ]
  },
  {
   "cell_type": "markdown",
   "metadata": {},
   "source": [
    "### Feature4 : windspeed"
   ]
  },
  {
   "cell_type": "code",
   "execution_count": 22,
   "metadata": {},
   "outputs": [],
   "source": [
    "var = 'windspeed'"
   ]
  },
  {
   "cell_type": "code",
   "execution_count": 23,
   "metadata": {},
   "outputs": [
    {
     "data": {
      "text/plain": [
       "array([1.4, 2.1, 3.4, 3.1, 2.9, 3. , 3.5, 4.3, 3.7, 3.2, 3.6, 2.4, 4.6,\n",
       "       6.5, 5.7, 5.1, 4.8, 5. , 4. , 4.1, 4.9, 3.9, 2.8, 1.6, 0.9, 1.9,\n",
       "       1.8, 2.3, 0.8, 2.5, 2.6, 2.2, 3.3, 5.4, 4.4, 4.5, 3.8, 1.7, 2.7,\n",
       "       4.2, 2. , 1.5, 0.7, 0.4, 1. , 0.5, 1.2, 1.1, 1.3, 4.7, 0.6, 0.2,\n",
       "       5.2, 6.1, 5.3, 6.7, 0. , 0.3, 5.5, 5.9, 6. , 8.3, 5.6, 6.6, 0.1,\n",
       "       8.1, 6.9, 6.3, 5.8, 6.8, 6.4, 6.2])"
      ]
     },
     "execution_count": 23,
     "metadata": {},
     "output_type": "execute_result"
    }
   ],
   "source": [
    "data[var].unique()"
   ]
  },
  {
   "cell_type": "code",
   "execution_count": 24,
   "metadata": {},
   "outputs": [
    {
     "data": {
      "text/plain": [
       "0"
      ]
     },
     "execution_count": 24,
     "metadata": {},
     "output_type": "execute_result"
    }
   ],
   "source": [
    "data[var].isna().sum()"
   ]
  },
  {
   "cell_type": "code",
   "execution_count": 25,
   "metadata": {},
   "outputs": [
    {
     "data": {
      "text/plain": [
       "count    5827.000000\n",
       "mean        2.237601\n",
       "std         1.054516\n",
       "min         0.000000\n",
       "25%         1.500000\n",
       "50%         2.200000\n",
       "75%         2.800000\n",
       "max         8.300000\n",
       "Name: windspeed, dtype: float64"
      ]
     },
     "execution_count": 25,
     "metadata": {},
     "output_type": "execute_result"
    }
   ],
   "source": [
    "data[var].describe()"
   ]
  },
  {
   "cell_type": "code",
   "execution_count": 26,
   "metadata": {},
   "outputs": [
    {
     "name": "stdout",
     "output_type": "stream",
     "text": [
      "0.0 4.7\n"
     ]
    },
    {
     "data": {
      "image/png": "[encoded data removed]",
      "text/plain": [
       "<Figure size 1200x500 with 2 Axes>"
      ]
     },
     "metadata": {},
     "output_type": "display_data"
    }
   ],
   "source": [
    "plt.figure(figsize=(12, 5))\n",
    "\n",
    "plt.subplot(1, 2, 1)\n",
    "box = plt.boxplot(data[var])\n",
    "l_fence = box['whiskers'][0].get_ydata()[1]\n",
    "u_fence = box['whiskers'][1].get_ydata()[1]\n",
    "print(l_fence, u_fence)\n",
    "\n",
    "plt.subplot(1, 2, 2)\n",
    "sns.histplot(data[var], kde = True)\n",
    "plt.axvline(l_fence, color = 'orange')\n",
    "avg = data[var].mean()\n",
    "plt.axvline(avg, color = 'r')\n",
    "plt.axvline(u_fence, color = 'orange')\n",
    "\n",
    "plt.show()"
   ]
  },
  {
   "cell_type": "markdown",
   "metadata": {},
   "source": [
    "### Feature5 : humidity"
   ]
  },
  {
   "cell_type": "code",
   "execution_count": 27,
   "metadata": {},
   "outputs": [],
   "source": [
    "var = 'humidity'"
   ]
  },
  {
   "cell_type": "code",
   "execution_count": 28,
   "metadata": {},
   "outputs": [
    {
     "data": {
      "text/plain": [
       "array([ 49,  53,  43,  44,  45,  46,  38,  31,  25,  21,  20,  19,  22,\n",
       "        24,  27,  33,  40,  41,  39,  42,  34,  29,  26,  30,  35,  36,\n",
       "        51,  54,  57,  59,  60,  62,  79,  89,  94,  96,  98,  97,  95,\n",
       "        92,  91,  93,  86,  80,  75,  67,  61,  50,  52,  55,  69,  71,\n",
       "        72,  78,  66,  28,  23,  37,  48,  58,  64,  63,  32,  56,  70,\n",
       "        77,  47,  68,  99,  76,  65,  74,  83,  85,  87,  81,  84,  73,\n",
       "        88,  82,  90, 100], dtype=int64)"
      ]
     },
     "execution_count": 28,
     "metadata": {},
     "output_type": "execute_result"
    }
   ],
   "source": [
    "data[var].unique()"
   ]
  },
  {
   "cell_type": "code",
   "execution_count": 29,
   "metadata": {},
   "outputs": [
    {
     "data": {
      "text/plain": [
       "0"
      ]
     },
     "execution_count": 29,
     "metadata": {},
     "output_type": "execute_result"
    }
   ],
   "source": [
    "data[var].isna().sum()"
   ]
  },
  {
   "cell_type": "code",
   "execution_count": 30,
   "metadata": {},
   "outputs": [
    {
     "data": {
      "text/plain": [
       "count    5827.000000\n",
       "mean       68.608718\n",
       "std        17.277266\n",
       "min        19.000000\n",
       "25%        56.000000\n",
       "50%        70.000000\n",
       "75%        82.000000\n",
       "max       100.000000\n",
       "Name: humidity, dtype: float64"
      ]
     },
     "execution_count": 30,
     "metadata": {},
     "output_type": "execute_result"
    }
   ],
   "source": [
    "data[var].describe()"
   ]
  },
  {
   "cell_type": "code",
   "execution_count": 31,
   "metadata": {},
   "outputs": [
    {
     "name": "stdout",
     "output_type": "stream",
     "text": [
      "19.0 100.0\n"
     ]
    },
    {
     "data": {
      "image/png": "[encoded data removed]",
      "text/plain": [
       "<Figure size 1200x500 with 2 Axes>"
      ]
     },
     "metadata": {},
     "output_type": "display_data"
    }
   ],
   "source": [
    "plt.figure(figsize=(12, 5))\n",
    "\n",
    "plt.subplot(1, 2, 1)\n",
    "box = plt.boxplot(data[var])\n",
    "l_fence = box['whiskers'][0].get_ydata()[1]\n",
    "u_fence = box['whiskers'][1].get_ydata()[1]\n",
    "print(l_fence, u_fence)\n",
    "\n",
    "plt.subplot(1, 2, 2)\n",
    "sns.histplot(data[var], kde = True)\n",
    "plt.axvline(l_fence, color = 'orange')\n",
    "avg = data[var].mean()\n",
    "plt.axvline(avg, color = 'r')\n",
    "plt.axvline(u_fence, color = 'orange')\n",
    "\n",
    "plt.show()"
   ]
  },
  {
   "cell_type": "markdown",
   "metadata": {},
   "source": [
    "### Feature6 : visibility"
   ]
  },
  {
   "cell_type": "code",
   "execution_count": 32,
   "metadata": {},
   "outputs": [],
   "source": [
    "var = 'visibility'"
   ]
  },
  {
   "cell_type": "code",
   "execution_count": 33,
   "metadata": {},
   "outputs": [
    {
     "data": {
      "text/plain": [
       "array([2000,  521,  206, ..., 1193, 1233, 1250], dtype=int64)"
      ]
     },
     "execution_count": 33,
     "metadata": {},
     "output_type": "execute_result"
    }
   ],
   "source": [
    "data[var].unique()"
   ]
  },
  {
   "cell_type": "code",
   "execution_count": 34,
   "metadata": {},
   "outputs": [
    {
     "data": {
      "text/plain": [
       "0"
      ]
     },
     "execution_count": 34,
     "metadata": {},
     "output_type": "execute_result"
    }
   ],
   "source": [
    "data[var].isna().sum()"
   ]
  },
  {
   "cell_type": "code",
   "execution_count": 35,
   "metadata": {},
   "outputs": [
    {
     "data": {
      "text/plain": [
       "count    5827.000000\n",
       "mean     1758.438648\n",
       "std       490.969394\n",
       "min        60.000000\n",
       "25%      1935.500000\n",
       "50%      2000.000000\n",
       "75%      2000.000000\n",
       "max      2000.000000\n",
       "Name: visibility, dtype: float64"
      ]
     },
     "execution_count": 35,
     "metadata": {},
     "output_type": "execute_result"
    }
   ],
   "source": [
    "data[var].describe()"
   ]
  },
  {
   "cell_type": "code",
   "execution_count": 36,
   "metadata": {},
   "outputs": [
    {
     "name": "stdout",
     "output_type": "stream",
     "text": [
      "1840.0 2000.0\n"
     ]
    },
    {
     "data": {
      "image/png": "[encoded data removed]",
      "text/plain": [
       "<Figure size 1200x500 with 2 Axes>"
      ]
     },
     "metadata": {},
     "output_type": "display_data"
    }
   ],
   "source": [
    "plt.figure(figsize=(12, 5))\n",
    "\n",
    "plt.subplot(1, 2, 1)\n",
    "box = plt.boxplot(data[var])\n",
    "l_fence = box['whiskers'][0].get_ydata()[1]\n",
    "u_fence = box['whiskers'][1].get_ydata()[1]\n",
    "print(l_fence, u_fence)\n",
    "\n",
    "plt.subplot(1, 2, 2)\n",
    "sns.histplot(data[var], kde = True)\n",
    "plt.axvline(l_fence, color = 'orange')\n",
    "avg = data[var].mean()\n",
    "plt.axvline(avg, color = 'r')\n",
    "plt.axvline(u_fence, color = 'orange')\n",
    "\n",
    "plt.show()"
   ]
  },
  {
   "cell_type": "markdown",
   "metadata": {},
   "source": [
    "### Feature7 : ozone"
   ]
  },
  {
   "cell_type": "code",
   "execution_count": 37,
   "metadata": {},
   "outputs": [],
   "source": [
    "var = 'ozone'"
   ]
  },
  {
   "cell_type": "code",
   "execution_count": 38,
   "metadata": {},
   "outputs": [
    {
     "data": {
      "text/plain": [
       "array([0.002, 0.003, 0.023, 0.028, 0.008, 0.009, 0.018, 0.027, 0.032,\n",
       "       0.033, 0.038, 0.042, 0.044, 0.045, 0.043, 0.039, 0.037, 0.036,\n",
       "       0.034, 0.04 , 0.035, 0.041, 0.025, 0.01 , 0.015, 0.006, 0.022,\n",
       "       0.019, 0.03 , 0.026, 0.021, 0.017, 0.031, 0.029, 0.024, 0.02 ,\n",
       "       0.016, 0.004, 0.049, 0.053, 0.055, 0.059, 0.06 , 0.051, 0.046,\n",
       "       0.012, 0.013, 0.014, 0.047, 0.05 , 0.058, 0.052, 0.007, 0.056,\n",
       "         nan, 0.066, 0.057, 0.011, 0.054, 0.065, 0.067, 0.07 , 0.077,\n",
       "       0.072, 0.005, 0.064, 0.068, 0.071, 0.061, 0.074, 0.069, 0.048,\n",
       "       0.063, 0.079, 0.106, 0.104, 0.085, 0.075, 0.081, 0.073, 0.08 ,\n",
       "       0.062, 0.078, 0.088, 0.107, 0.11 , 0.116, 0.087, 0.082, 0.097,\n",
       "       0.099, 0.094, 0.086, 0.083, 0.09 , 0.093, 0.084, 0.076, 0.089,\n",
       "       0.1  , 0.137, 0.115, 0.092, 0.098, 0.103, 0.096, 0.111, 0.118,\n",
       "       0.101, 0.001])"
      ]
     },
     "execution_count": 38,
     "metadata": {},
     "output_type": "execute_result"
    }
   ],
   "source": [
    "data[var].unique()"
   ]
  },
  {
   "cell_type": "code",
   "execution_count": 39,
   "metadata": {},
   "outputs": [
    {
     "data": {
      "text/plain": [
       "128"
      ]
     },
     "execution_count": 39,
     "metadata": {},
     "output_type": "execute_result"
    }
   ],
   "source": [
    "data[var].isna().sum()"
   ]
  },
  {
   "cell_type": "code",
   "execution_count": 40,
   "metadata": {},
   "outputs": [
    {
     "data": {
      "text/plain": [
       "0"
      ]
     },
     "execution_count": 40,
     "metadata": {},
     "output_type": "execute_result"
    }
   ],
   "source": [
    "temp = data.interpolate(kind='quadratic') # 이차 # quadratic(부드러운 보정)\n",
    "temp[var].isna().sum()"
   ]
  },
  {
   "cell_type": "code",
   "execution_count": 41,
   "metadata": {},
   "outputs": [
    {
     "data": {
      "text/plain": [
       "count    5699.000000\n",
       "mean        0.031811\n",
       "std         0.018277\n",
       "min         0.001000\n",
       "25%         0.019000\n",
       "50%         0.031000\n",
       "75%         0.041000\n",
       "max         0.137000\n",
       "Name: ozone, dtype: float64"
      ]
     },
     "execution_count": 41,
     "metadata": {},
     "output_type": "execute_result"
    }
   ],
   "source": [
    "data[var].describe()"
   ]
  },
  {
   "cell_type": "code",
   "execution_count": 42,
   "metadata": {},
   "outputs": [
    {
     "name": "stdout",
     "output_type": "stream",
     "text": [
      "nan nan\n"
     ]
    },
    {
     "data": {
      "image/png": "[encoded data removed]",
      "text/plain": [
       "<Figure size 1200x500 with 2 Axes>"
      ]
     },
     "metadata": {},
     "output_type": "display_data"
    }
   ],
   "source": [
    "plt.figure(figsize=(12, 5))\n",
    "\n",
    "plt.subplot(1, 2, 1)\n",
    "box = plt.boxplot(data[var])\n",
    "l_fence = box['whiskers'][0].get_ydata()[1]\n",
    "u_fence = box['whiskers'][1].get_ydata()[1]\n",
    "print(l_fence, u_fence)\n",
    "\n",
    "plt.subplot(1, 2, 2)\n",
    "sns.histplot(data[var], kde = True)\n",
    "plt.axvline(l_fence, color = 'orange')\n",
    "avg = data[var].mean()\n",
    "plt.axvline(avg, color = 'r')\n",
    "plt.axvline(u_fence, color = 'orange')\n",
    "\n",
    "plt.show()"
   ]
  }
 ],
 "metadata": {
  "kernelspec": {
   "display_name": "boostcourse",
   "language": "python",
   "name": "python3"
  },
  "language_info": {
   "codemirror_mode": {
    "name": "ipython",
    "version": 3
   },
   "file_extension": ".py",
   "mimetype": "text/x-python",
   "name": "python",
   "nbconvert_exporter": "python",
   "pygments_lexer": "ipython3",
   "version": "3.8.19"
  }
 },
 "nbformat": 4,
 "nbformat_minor": 2
}
